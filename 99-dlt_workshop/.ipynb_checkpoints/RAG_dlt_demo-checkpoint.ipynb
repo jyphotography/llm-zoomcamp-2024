{
 "cells": [
  {
   "cell_type": "markdown",
   "id": "d33774b8-ec57-49e9-adc6-c6a4f3c68d10",
   "metadata": {},
   "source": [
    "# Intro dlt -> LanceDB loading example"
   ]
  },
  {
   "cell_type": "markdown",
   "id": "1abcfe33-f610-472c-97b8-ba9a5b98366c",
   "metadata": {},
   "source": [
    "https://lu.ma/cnpdoc5n\n",
    "\n",
    "If you want to play around with this notebook and make edits in future, we highly recommend making a copy since the link is view only! Also make sure you're signed in with your Google account to be able to add secrets.\n",
    "\n",
    "Before going into a more complex example, we will go through a simple example of how to load the course Q&A data into LanceDB."
   ]
  },
  {
   "cell_type": "markdown",
   "id": "c4ca6c66-3b85-4655-83c9-f171a7cd60b9",
   "metadata": {},
   "source": [
    "\n",
    "## Install requirements"
   ]
  },
  {
   "cell_type": "markdown",
   "id": "171a08df-63fd-429c-a98d-92e5ca00d421",
   "metadata": {},
   "source": [
    "To create a json -> lancedb pipeline, we need to install:\n",
    "\n",
    "dlt with lancedb extras\n",
    "sentence-transformers: we need to use an embedding model to vectorize and store data inside LanceDB. For this we choose the open-source model \"sentence-transformers/all-MiniLM-L6-v2\"."
   ]
  },
  {
   "cell_type": "code",
   "execution_count": 1,
   "id": "9fb99ceb-58f3-476f-a270-06c0faadedd0",
   "metadata": {},
   "outputs": [],
   "source": [
    "%%capture\n",
    "!pip install dlt[lancedb]==0.5.1a0\n",
    "!pip install sentence-transformers"
   ]
  },
  {
   "cell_type": "markdown",
   "id": "4656350d-8dd2-475e-8cf6-93e04ae1301c",
   "metadata": {},
   "source": [
    "## Load the data"
   ]
  },
  {
   "cell_type": "markdown",
   "id": "bff29ba0-75c0-4296-ac55-ed4feb6beb26",
   "metadata": {},
   "source": [
    "We'll first load the data just into LanceDB, without embedding it. LanceDB stores both the data and the embeddings, and can also embed data and queries on the fly.\n",
    "\n",
    "Some definitions:\n",
    "\n",
    "A dlt source is a grouping of resources (e.g. all your data from Hubspot)\n",
    "A dlt resource is a function that yields data (e.g. a function yielding all your Hubspot companies)\n",
    "A dlt pipeline is how you ingest your data\n",
    "Loading the data consists of a few steps:\n",
    "\n",
    "Use the requests library to get the data\n",
    "Define a dlt resource that yields the individual documents\n",
    "Create a dlt pipeline and run it"
   ]
  },
  {
   "cell_type": "code",
   "execution_count": 2,
   "id": "3070773a-3b6e-477c-b7f2-7ed49bd55661",
   "metadata": {},
   "outputs": [
    {
     "name": "stderr",
     "output_type": "stream",
     "text": [
      "/usr/local/python/3.10.13/lib/python3.10/site-packages/tqdm/auto.py:21: TqdmWarning: IProgress not found. Please update jupyter and ipywidgets. See https://ipywidgets.readthedocs.io/en/stable/user_install.html\n",
      "  from .autonotebook import tqdm as notebook_tqdm\n"
     ]
    },
    {
     "name": "stdout",
     "output_type": "stream",
     "text": [
      "_dlt_pipeline_state\n",
      "[{'name': 'version', 'data_type': 'bigint', 'nullable': False}, {'name': 'engine_version', 'data_type': 'bigint', 'nullable': False}, {'name': 'pipeline_name', 'data_type': 'text', 'nullable': False}, {'name': 'state', 'data_type': 'text', 'nullable': False}, {'name': 'created_at', 'data_type': 'timestamp', 'nullable': False}, {'name': 'version_hash', 'data_type': 'text', 'nullable': True}, {'name': '_dlt_load_id', 'data_type': 'text', 'nullable': False}, {'name': '_dlt_id', 'data_type': 'text', 'nullable': False, 'unique': True}]\n",
      "documents\n",
      "[{'name': 'text', 'data_type': 'text', 'nullable': True}, {'name': 'section', 'data_type': 'text', 'nullable': True}, {'name': 'question', 'data_type': 'text', 'nullable': True}, {'name': '_dlt_load_id', 'data_type': 'text', 'nullable': False}, {'name': '_dlt_id', 'data_type': 'text', 'nullable': False, 'unique': True}]\n",
      "_dlt_loads\n",
      "[{'name': 'load_id', 'data_type': 'text', 'nullable': False}, {'name': 'schema_name', 'data_type': 'text', 'nullable': True}, {'name': 'status', 'data_type': 'bigint', 'nullable': False}, {'name': 'inserted_at', 'data_type': 'timestamp', 'nullable': False}, {'name': 'schema_version_hash', 'data_type': 'text', 'nullable': True}]\n",
      "_dlt_version\n",
      "[{'name': 'version', 'data_type': 'bigint', 'nullable': False}, {'name': 'engine_version', 'data_type': 'bigint', 'nullable': False}, {'name': 'inserted_at', 'data_type': 'timestamp', 'nullable': False}, {'name': 'schema_name', 'data_type': 'text', 'nullable': False}, {'name': 'version_hash', 'data_type': 'text', 'nullable': False}, {'name': 'schema', 'data_type': 'text', 'nullable': False}]\n",
      "UPLOAD\n",
      "Pipeline from_json load step completed in 0.35 seconds\n",
      "1 load package(s) were loaded to destination LanceDB and into dataset qanda\n",
      "The LanceDB destination used <dlt.destinations.impl.lancedb.configuration.LanceDBCredentials object at 0x7c1215e650c0> location to store data\n",
      "Load package 1721269342.5232055 is LOADED and contains no failed jobs\n"
     ]
    }
   ],
   "source": [
    "import requests\n",
    "import dlt\n",
    "\n",
    "qa_dataset = requests.get(\"https://github.com/DataTalksClub/llm-zoomcamp/blob/main/01-intro/documents.json?raw=1\").json()\n",
    "\n",
    "@dlt.resource\n",
    "def qa_documents():\n",
    "  for course in qa_dataset:\n",
    "    yield course[\"documents\"]\n",
    "\n",
    "pipeline = dlt.pipeline(pipeline_name=\"from_json\", destination=\"lancedb\", dataset_name=\"qanda\")\n",
    "\n",
    "load_info = pipeline.run(qa_documents, table_name=\"documents\")\n",
    "\n",
    "print(load_info)"
   ]
  },
  {
   "cell_type": "code",
   "execution_count": 3,
   "id": "2eb922bd-be41-401f-abbe-818730a0e574",
   "metadata": {},
   "outputs": [
    {
     "name": "stdout",
     "output_type": "stream",
     "text": [
      "['qanda____dlt_loads', 'qanda____dlt_pipeline_state', 'qanda____dlt_version', 'qanda___dltSentinelTable', 'qanda___documents']\n"
     ]
    }
   ],
   "source": [
    "import lancedb\n",
    "\n",
    "db = lancedb.connect(\"./.lancedb\")\n",
    "print(db.table_names())"
   ]
  },
  {
   "cell_type": "code",
   "execution_count": 4,
   "id": "a13d2df5-9655-4b44-90e0-95229b907e72",
   "metadata": {},
   "outputs": [
    {
     "data": {
      "text/html": [
       "<div>\n",
       "<style scoped>\n",
       "    .dataframe tbody tr th:only-of-type {\n",
       "        vertical-align: middle;\n",
       "    }\n",
       "\n",
       "    .dataframe tbody tr th {\n",
       "        vertical-align: top;\n",
       "    }\n",
       "\n",
       "    .dataframe thead th {\n",
       "        text-align: right;\n",
       "    }\n",
       "</style>\n",
       "<table border=\"1\" class=\"dataframe\">\n",
       "  <thead>\n",
       "    <tr style=\"text-align: right;\">\n",
       "      <th></th>\n",
       "      <th>id__</th>\n",
       "      <th>text</th>\n",
       "      <th>section</th>\n",
       "      <th>question</th>\n",
       "      <th>_dlt_load_id</th>\n",
       "      <th>_dlt_id</th>\n",
       "    </tr>\n",
       "  </thead>\n",
       "  <tbody>\n",
       "    <tr>\n",
       "      <th>0</th>\n",
       "      <td>6faff58b-fdd4-5edd-97cf-fcc9c4367621</td>\n",
       "      <td>The purpose of this document is to capture fre...</td>\n",
       "      <td>General course-related questions</td>\n",
       "      <td>Course - When will the course start?</td>\n",
       "      <td>1721269342.5232055</td>\n",
       "      <td>maZaihIsaJYCCQ</td>\n",
       "    </tr>\n",
       "    <tr>\n",
       "      <th>1</th>\n",
       "      <td>4e67bd26-7103-58cf-8707-b58c6ce536a0</td>\n",
       "      <td>GitHub - DataTalksClub data-engineering-zoomca...</td>\n",
       "      <td>General course-related questions</td>\n",
       "      <td>Course - What are the prerequisites for this c...</td>\n",
       "      <td>1721269342.5232055</td>\n",
       "      <td>xYWV3FxNDWxzkA</td>\n",
       "    </tr>\n",
       "    <tr>\n",
       "      <th>2</th>\n",
       "      <td>0333379e-89f6-5efe-bfdb-23f6566a5256</td>\n",
       "      <td>Yes, even if you don't register, you're still ...</td>\n",
       "      <td>General course-related questions</td>\n",
       "      <td>Course - Can I still join the course after the...</td>\n",
       "      <td>1721269342.5232055</td>\n",
       "      <td>spR+2eQAyFJsbQ</td>\n",
       "    </tr>\n",
       "    <tr>\n",
       "      <th>3</th>\n",
       "      <td>fe5852db-0597-5a3c-9850-1611e3c8e5ff</td>\n",
       "      <td>You don't need it. You're accepted. You can al...</td>\n",
       "      <td>General course-related questions</td>\n",
       "      <td>Course - I have registered for the Data Engine...</td>\n",
       "      <td>1721269342.5232055</td>\n",
       "      <td>Wj0KiQo1p1xoSw</td>\n",
       "    </tr>\n",
       "    <tr>\n",
       "      <th>4</th>\n",
       "      <td>b27814dd-0c6a-50a7-a3b9-cdd872b38ccb</td>\n",
       "      <td>You can start by installing and setting up all...</td>\n",
       "      <td>General course-related questions</td>\n",
       "      <td>Course - What can I do before the course starts?</td>\n",
       "      <td>1721269342.5232055</td>\n",
       "      <td>C+M5yqHlAqnb2g</td>\n",
       "    </tr>\n",
       "    <tr>\n",
       "      <th>...</th>\n",
       "      <td>...</td>\n",
       "      <td>...</td>\n",
       "      <td>...</td>\n",
       "      <td>...</td>\n",
       "      <td>...</td>\n",
       "      <td>...</td>\n",
       "    </tr>\n",
       "    <tr>\n",
       "      <th>943</th>\n",
       "      <td>449d931e-dd03-578f-b62f-b5854311455e</td>\n",
       "      <td>Problem description\\nThis is the step in the c...</td>\n",
       "      <td>Module 6: Best practices</td>\n",
       "      <td>Github actions: Permission denied error when e...</td>\n",
       "      <td>1721269342.5232055</td>\n",
       "      <td>kvSYBCh4/5r/iQ</td>\n",
       "    </tr>\n",
       "    <tr>\n",
       "      <th>944</th>\n",
       "      <td>81686f67-95ba-550b-9b3c-47ac6d394aa3</td>\n",
       "      <td>Problem description\\nWhen a docker-compose fil...</td>\n",
       "      <td>Module 6: Best practices</td>\n",
       "      <td>Managing Multiple Docker Containers with docke...</td>\n",
       "      <td>1721269342.5232055</td>\n",
       "      <td>TSdx0tmrRte+hQ</td>\n",
       "    </tr>\n",
       "    <tr>\n",
       "      <th>945</th>\n",
       "      <td>7716c58d-9b45-5754-94d3-92be2e83dad6</td>\n",
       "      <td>Problem description\\nIf you are having problem...</td>\n",
       "      <td>Module 6: Best practices</td>\n",
       "      <td>AWS regions need to match docker-compose</td>\n",
       "      <td>1721269342.5232055</td>\n",
       "      <td>xkPvc4zWaUip3g</td>\n",
       "    </tr>\n",
       "    <tr>\n",
       "      <th>946</th>\n",
       "      <td>0981b1c6-44fb-5ca3-933b-e35b19cf0bc7</td>\n",
       "      <td>Problem description\\nPre-commit command was fa...</td>\n",
       "      <td>Module 6: Best practices</td>\n",
       "      <td>Isort Pre-commit</td>\n",
       "      <td>1721269342.5232055</td>\n",
       "      <td>qefkL8u/k06lyA</td>\n",
       "    </tr>\n",
       "    <tr>\n",
       "      <th>947</th>\n",
       "      <td>8fe7b651-218d-547e-876a-300ca90036b0</td>\n",
       "      <td>Problem description\\nInfrastructure created in...</td>\n",
       "      <td>Module 6: Best practices</td>\n",
       "      <td>How to destroy infrastructure created via GitH...</td>\n",
       "      <td>1721269342.5232055</td>\n",
       "      <td>LqEFDN/cKsUyiw</td>\n",
       "    </tr>\n",
       "  </tbody>\n",
       "</table>\n",
       "<p>948 rows × 6 columns</p>\n",
       "</div>"
      ],
      "text/plain": [
       "                                     id__  \\\n",
       "0    6faff58b-fdd4-5edd-97cf-fcc9c4367621   \n",
       "1    4e67bd26-7103-58cf-8707-b58c6ce536a0   \n",
       "2    0333379e-89f6-5efe-bfdb-23f6566a5256   \n",
       "3    fe5852db-0597-5a3c-9850-1611e3c8e5ff   \n",
       "4    b27814dd-0c6a-50a7-a3b9-cdd872b38ccb   \n",
       "..                                    ...   \n",
       "943  449d931e-dd03-578f-b62f-b5854311455e   \n",
       "944  81686f67-95ba-550b-9b3c-47ac6d394aa3   \n",
       "945  7716c58d-9b45-5754-94d3-92be2e83dad6   \n",
       "946  0981b1c6-44fb-5ca3-933b-e35b19cf0bc7   \n",
       "947  8fe7b651-218d-547e-876a-300ca90036b0   \n",
       "\n",
       "                                                  text  \\\n",
       "0    The purpose of this document is to capture fre...   \n",
       "1    GitHub - DataTalksClub data-engineering-zoomca...   \n",
       "2    Yes, even if you don't register, you're still ...   \n",
       "3    You don't need it. You're accepted. You can al...   \n",
       "4    You can start by installing and setting up all...   \n",
       "..                                                 ...   \n",
       "943  Problem description\\nThis is the step in the c...   \n",
       "944  Problem description\\nWhen a docker-compose fil...   \n",
       "945  Problem description\\nIf you are having problem...   \n",
       "946  Problem description\\nPre-commit command was fa...   \n",
       "947  Problem description\\nInfrastructure created in...   \n",
       "\n",
       "                              section  \\\n",
       "0    General course-related questions   \n",
       "1    General course-related questions   \n",
       "2    General course-related questions   \n",
       "3    General course-related questions   \n",
       "4    General course-related questions   \n",
       "..                                ...   \n",
       "943          Module 6: Best practices   \n",
       "944          Module 6: Best practices   \n",
       "945          Module 6: Best practices   \n",
       "946          Module 6: Best practices   \n",
       "947          Module 6: Best practices   \n",
       "\n",
       "                                              question        _dlt_load_id  \\\n",
       "0                 Course - When will the course start?  1721269342.5232055   \n",
       "1    Course - What are the prerequisites for this c...  1721269342.5232055   \n",
       "2    Course - Can I still join the course after the...  1721269342.5232055   \n",
       "3    Course - I have registered for the Data Engine...  1721269342.5232055   \n",
       "4     Course - What can I do before the course starts?  1721269342.5232055   \n",
       "..                                                 ...                 ...   \n",
       "943  Github actions: Permission denied error when e...  1721269342.5232055   \n",
       "944  Managing Multiple Docker Containers with docke...  1721269342.5232055   \n",
       "945           AWS regions need to match docker-compose  1721269342.5232055   \n",
       "946                                   Isort Pre-commit  1721269342.5232055   \n",
       "947  How to destroy infrastructure created via GitH...  1721269342.5232055   \n",
       "\n",
       "            _dlt_id  \n",
       "0    maZaihIsaJYCCQ  \n",
       "1    xYWV3FxNDWxzkA  \n",
       "2    spR+2eQAyFJsbQ  \n",
       "3    Wj0KiQo1p1xoSw  \n",
       "4    C+M5yqHlAqnb2g  \n",
       "..              ...  \n",
       "943  kvSYBCh4/5r/iQ  \n",
       "944  TSdx0tmrRte+hQ  \n",
       "945  xkPvc4zWaUip3g  \n",
       "946  qefkL8u/k06lyA  \n",
       "947  LqEFDN/cKsUyiw  \n",
       "\n",
       "[948 rows x 6 columns]"
      ]
     },
     "execution_count": 4,
     "metadata": {},
     "output_type": "execute_result"
    }
   ],
   "source": [
    "db_table = db.open_table(\"qanda___documents\")\n",
    "\n",
    "db_table.to_pandas()"
   ]
  },
  {
   "cell_type": "code",
   "execution_count": null,
   "id": "eb27b984-ef1b-40d7-9c0d-546209b03527",
   "metadata": {},
   "outputs": [],
   "source": []
  }
 ],
 "metadata": {
  "kernelspec": {
   "display_name": "Python 3 (ipykernel)",
   "language": "python",
   "name": "python3"
  },
  "language_info": {
   "codemirror_mode": {
    "name": "ipython",
    "version": 3
   },
   "file_extension": ".py",
   "mimetype": "text/x-python",
   "name": "python",
   "nbconvert_exporter": "python",
   "pygments_lexer": "ipython3",
   "version": "3.10.13"
  }
 },
 "nbformat": 4,
 "nbformat_minor": 5
}
