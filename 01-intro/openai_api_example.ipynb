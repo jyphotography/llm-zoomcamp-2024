{
 "cells": [
  {
   "cell_type": "code",
   "execution_count": 2,
   "id": "4a67ccec-66f1-4aab-8c1b-563a232a13c4",
   "metadata": {},
   "outputs": [],
   "source": [
    "# import openai\n",
    "from openai import OpenAI"
   ]
  },
  {
   "cell_type": "code",
   "execution_count": 3,
   "id": "96159415-e4a9-4b5b-8453-a4433651e454",
   "metadata": {},
   "outputs": [],
   "source": [
    "client = OpenAI()"
   ]
  },
  {
   "cell_type": "code",
   "execution_count": 10,
   "id": "68c1e8ac-41df-466f-bc84-80b8e1178545",
   "metadata": {},
   "outputs": [],
   "source": [
    "response = client.chat.completions.create(\n",
    "    model='gpt-4o',\n",
    "    messages=[{\"role\": \"user\", \"content\": \"is it too late to join the course?\"}]\n",
    ")"
   ]
  },
  {
   "cell_type": "code",
   "execution_count": 11,
   "id": "149b6433-af09-402b-a5fe-89f798dd3171",
   "metadata": {},
   "outputs": [
    {
     "data": {
      "text/plain": [
       "ChatCompletion(id='chatcmpl-9bdwkVY2bQG1oPDfT4zvJiaGl6Led', choices=[Choice(finish_reason='stop', index=0, logprobs=None, message=ChatCompletionMessage(content=\"It depends on the specific course you're interested in. Some courses have strict enrollment deadlines, while others may allow late registration or even rolling admissions where you can join at any time. \\n\\nHere are a few steps you can take to find out:\\n\\n1. **Check the Course Website:** Enrollment deadlines are often listed on the course’s official website.\\n2. **Contact Support or Admissions:** Reach out to the course provider or the institution offering the course. They can provide the most accurate information.\\n3. **Look for Self-Paced Options:** Some online courses are self-paced, meaning you can start them whenever you like.\\n4. **Consider Prerequisites:** Ensure you meet any prerequisites for the course even if late enrollment is allowed.\\n\\nIf you provide more details about the specific course, I might be able to offer more tailored advice.\", role='assistant', function_call=None, tool_calls=None))], created=1718758718, model='gpt-4o-2024-05-13', object='chat.completion', system_fingerprint='fp_9cb5d38cf7', usage=CompletionUsage(completion_tokens=166, prompt_tokens=16, total_tokens=182))"
      ]
     },
     "execution_count": 11,
     "metadata": {},
     "output_type": "execute_result"
    }
   ],
   "source": [
    "response"
   ]
  },
  {
   "cell_type": "code",
   "execution_count": 14,
   "id": "74741106-7a46-4bf6-a2d9-f34aa94a1837",
   "metadata": {},
   "outputs": [
    {
     "data": {
      "text/plain": [
       "\"It depends on the specific course you're interested in. Some courses have strict enrollment deadlines, while others may allow late registration or even rolling admissions where you can join at any time. \\n\\nHere are a few steps you can take to find out:\\n\\n1. **Check the Course Website:** Enrollment deadlines are often listed on the course’s official website.\\n2. **Contact Support or Admissions:** Reach out to the course provider or the institution offering the course. They can provide the most accurate information.\\n3. **Look for Self-Paced Options:** Some online courses are self-paced, meaning you can start them whenever you like.\\n4. **Consider Prerequisites:** Ensure you meet any prerequisites for the course even if late enrollment is allowed.\\n\\nIf you provide more details about the specific course, I might be able to offer more tailored advice.\""
      ]
     },
     "execution_count": 14,
     "metadata": {},
     "output_type": "execute_result"
    }
   ],
   "source": [
    "response.choices[0].message.content"
   ]
  },
  {
   "cell_type": "code",
   "execution_count": null,
   "id": "f44fb264-9337-44bd-b991-e0fa83495510",
   "metadata": {},
   "outputs": [],
   "source": []
  }
 ],
 "metadata": {
  "kernelspec": {
   "display_name": "Python 3 (ipykernel)",
   "language": "python",
   "name": "python3"
  },
  "language_info": {
   "codemirror_mode": {
    "name": "ipython",
    "version": 3
   },
   "file_extension": ".py",
   "mimetype": "text/x-python",
   "name": "python",
   "nbconvert_exporter": "python",
   "pygments_lexer": "ipython3",
   "version": "3.10.13"
  }
 },
 "nbformat": 4,
 "nbformat_minor": 5
}
