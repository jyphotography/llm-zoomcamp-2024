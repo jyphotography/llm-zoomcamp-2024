{
 "cells": [
  {
   "cell_type": "code",
   "execution_count": null,
   "id": "315df7fb-4e9d-4381-8d80-3c7e6e03b135",
   "metadata": {},
   "outputs": [],
   "source": []
  }
 ],
 "metadata": {
  "kernelspec": {
   "display_name": "",
   "name": ""
  },
  "language_info": {
   "name": ""
  }
 },
 "nbformat": 4,
 "nbformat_minor": 5
}
