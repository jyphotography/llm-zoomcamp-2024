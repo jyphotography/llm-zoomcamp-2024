{
 "cells": [
  {
   "cell_type": "markdown",
   "id": "8a659a64-127d-45a5-8aeb-658790c911b1",
   "metadata": {},
   "source": [
    "we'll experiemnt with vector with and without Elasticsearch"
   ]
  },
  {
   "cell_type": "markdown",
   "id": "a00670d3-b0da-49c6-b6e8-6bf17b665031",
   "metadata": {},
   "source": [
    "## Q1. Getting the embeddings model\n",
    "\n",
    "What's the first value of the resulting vector?"
   ]
  },
  {
   "cell_type": "code",
   "execution_count": 3,
   "id": "cfa0780a-7ca7-43c5-b2ce-80a4842b185d",
   "metadata": {},
   "outputs": [],
   "source": [
    "from sentence_transformers import SentenceTransformer"
   ]
  },
  {
   "cell_type": "code",
   "execution_count": 2,
   "id": "38db5a96-8da4-4cec-bdb4-44a42cdda0e6",
   "metadata": {},
   "outputs": [],
   "source": [
    "model_name = 'multi-qa-distilbert-cos-v1'\n",
    "embedding_model = SentenceTransformer(model_name)"
   ]
  },
  {
   "cell_type": "code",
   "execution_count": 5,
   "id": "4e3f8810-143c-4339-a8b4-8cf26ea459f7",
   "metadata": {},
   "outputs": [],
   "source": [
    "user_question = \"I just discovered the course. Can I still join it?\""
   ]
  },
  {
   "cell_type": "code",
   "execution_count": 6,
   "id": "53ca684d-e443-4923-b181-10cd9d58f546",
   "metadata": {},
   "outputs": [],
   "source": [
    "query_embedding = embedding_model.encode(user_question)"
   ]
  },
  {
   "cell_type": "code",
   "execution_count": 7,
   "id": "f56a0898-dc4d-4657-a370-2d214ead6a96",
   "metadata": {},
   "outputs": [
    {
     "data": {
      "text/plain": [
       "array([ 7.82226548e-02, -4.01311405e-02,  3.86135913e-02, -1.78966438e-04,\n",
       "        8.92347097e-02, -5.04591092e-02, -1.05026569e-02,  3.71055678e-02,\n",
       "       -4.18713912e-02,  3.48084792e-02, -1.20701883e-02, -2.36942340e-02,\n",
       "        3.87900174e-02,  1.60988607e-02,  3.50747295e-02,  3.04746162e-03,\n",
       "        5.79672381e-02, -4.10627462e-02, -3.41552682e-02, -2.56396383e-02,\n",
       "       -3.55263911e-02,  1.42908087e-02, -1.62799917e-02,  3.21446545e-02,\n",
       "       -4.66897376e-02,  7.89186060e-02,  4.90160920e-02,  1.56761166e-02,\n",
       "       -1.69110075e-02,  2.26482227e-02,  5.60206100e-02, -3.98361087e-02,\n",
       "        6.77409917e-02, -1.20209912e-02,  1.12621894e-03, -1.94394365e-02,\n",
       "       -2.65951678e-02,  1.06177367e-02,  1.69687122e-02,  1.13487840e-02,\n",
       "       -2.97063086e-02,  5.25258258e-02, -1.41453547e-02,  4.61699851e-02,\n",
       "        1.17066065e-02, -2.38053519e-02, -6.32558241e-02, -1.92042235e-02,\n",
       "       -7.10592186e-03,  3.24167833e-02,  2.49618199e-02, -5.27503015e-03,\n",
       "        2.01149024e-02, -3.72371152e-02,  3.46405394e-02, -3.29310261e-02,\n",
       "       -2.01484803e-02,  5.07839303e-03, -4.55506742e-02,  7.89169688e-03,\n",
       "       -4.91713583e-02,  4.69897278e-02, -3.80505981e-06,  2.48839278e-02,\n",
       "       -2.96471510e-02,  6.69760117e-03,  3.58087718e-02, -7.18094781e-03,\n",
       "       -3.03277262e-02,  7.95786362e-03,  3.36150825e-02, -2.25491151e-02,\n",
       "       -3.62097844e-02, -2.03929059e-02, -2.70679290e-03, -8.15981850e-02,\n",
       "       -1.43993227e-02,  4.90568765e-02, -2.11568642e-02,  9.31681832e-04,\n",
       "        6.57264590e-02,  4.69609909e-02,  1.23655573e-02, -2.84593143e-02,\n",
       "       -2.57528741e-02,  1.46925887e-02, -5.53987361e-02, -3.05970423e-02,\n",
       "        5.75574040e-02,  2.81941295e-02, -1.30107012e-02, -2.08614748e-02,\n",
       "       -2.43033655e-02, -2.40275078e-02,  4.11576889e-02, -5.92422858e-02,\n",
       "       -1.69009902e-03,  4.00552042e-02,  2.43852679e-02, -1.10905133e-02,\n",
       "       -2.93893088e-02,  2.01826487e-02,  4.22846200e-03,  2.95343306e-02,\n",
       "        3.16523425e-02,  3.00929882e-02,  8.98854155e-03, -8.30620825e-02,\n",
       "       -2.24144291e-02,  1.82182994e-02, -5.66515476e-02, -4.21271920e-02,\n",
       "        3.27233039e-02, -2.10854225e-02, -4.79223672e-03,  1.90163292e-02,\n",
       "        4.55397591e-02, -9.62481555e-03, -2.30316184e-02, -3.52343246e-02,\n",
       "       -3.91419008e-02, -3.46547812e-02,  2.47354899e-02,  4.71566729e-02,\n",
       "        3.46270725e-02,  5.29964082e-02, -2.86405422e-02, -1.71785112e-02,\n",
       "       -1.30146304e-02, -5.79404645e-02,  3.99250425e-02, -5.88766523e-02,\n",
       "        4.57601547e-02,  2.09622178e-02, -1.52759813e-02,  3.25414911e-02,\n",
       "        2.08252836e-02, -2.48042028e-02, -4.24147137e-02,  2.95954887e-02,\n",
       "       -4.62034531e-02,  3.17028686e-02, -7.64973415e-03,  5.84934885e-03,\n",
       "       -3.90673876e-02,  8.11777450e-03, -3.60446684e-02,  6.34325966e-02,\n",
       "       -4.23138998e-02, -1.57085271e-03,  9.18294396e-03, -2.99421139e-02,\n",
       "       -2.27955412e-02, -9.86715313e-03,  2.94452514e-02,  1.75152998e-02,\n",
       "       -1.93444565e-02,  2.40450036e-02,  2.92803030e-02,  4.78763308e-04,\n",
       "        2.55402960e-02, -3.34960185e-02,  3.04799844e-02, -9.45277605e-03,\n",
       "        3.35257240e-02,  5.77760562e-02, -1.58551391e-02, -7.15148151e-02,\n",
       "        6.71641843e-04, -7.77694816e-03, -5.37220389e-02, -1.58578809e-02,\n",
       "        2.93348879e-02, -5.35059497e-02, -2.82784868e-02, -3.81728970e-02,\n",
       "        1.05941994e-03,  3.31668765e-03,  2.60325111e-02, -2.05704104e-02,\n",
       "       -2.55044121e-02, -2.73665562e-02,  2.12153289e-02, -3.17961685e-02,\n",
       "       -2.71619149e-02, -3.00257225e-02, -5.35569862e-02,  1.62939113e-02,\n",
       "        2.55571841e-03,  7.67827779e-02,  3.24226320e-02,  3.80413905e-02,\n",
       "       -2.25355513e-02, -4.81641367e-02,  2.26790644e-02,  1.25548532e-02,\n",
       "       -4.78156134e-02,  4.13825735e-02, -9.52939037e-03,  3.37111093e-02,\n",
       "        3.21243405e-02,  5.91824725e-02, -7.25298226e-02, -7.38689676e-03,\n",
       "       -3.22184600e-02,  3.09309158e-02,  5.23214079e-02,  3.24243642e-02,\n",
       "       -3.95455174e-02, -2.63985246e-02, -2.35443041e-02,  2.39192112e-03,\n",
       "        3.20997350e-02,  8.44291691e-03,  9.85345244e-03,  1.95927639e-02,\n",
       "        3.99371944e-02,  4.52749990e-02,  3.52183990e-02,  1.67367645e-02,\n",
       "        2.65721064e-02, -8.88593495e-03, -1.27366967e-02, -5.89371249e-02,\n",
       "       -2.89509296e-02,  2.18168125e-02, -4.62896600e-02, -5.12742111e-03,\n",
       "       -2.73846313e-02, -4.35681045e-02, -3.33959796e-02,  2.61665066e-03,\n",
       "        6.77051917e-02, -6.68666838e-03,  4.25815843e-02, -8.47998168e-03,\n",
       "       -4.45969924e-02, -4.92077544e-02,  2.54241284e-02,  3.41309234e-02,\n",
       "        4.66176234e-02,  3.41222510e-02, -3.89920324e-02,  6.68450594e-02,\n",
       "        6.32637590e-02, -1.53560825e-02, -6.43526320e-04,  1.88045055e-02,\n",
       "        1.10457549e-02, -2.76161581e-02,  4.89471853e-02, -6.65619299e-02,\n",
       "        4.41557867e-03, -8.06404930e-03, -7.56582916e-02,  5.20581715e-02,\n",
       "       -1.68674570e-02, -1.51841035e-02,  2.59556379e-02,  4.38798638e-03,\n",
       "        1.29939690e-02,  2.37958338e-02, -3.92605551e-02,  3.40803619e-03,\n",
       "       -4.65255305e-02, -5.80669269e-02, -4.86324355e-02,  3.85592617e-02,\n",
       "        1.58163607e-02, -3.55917811e-02, -6.13349043e-02, -4.66559343e-02,\n",
       "        3.48288640e-02, -3.00835352e-02, -3.80521938e-02,  5.35570718e-02,\n",
       "       -4.42223065e-02, -4.11476716e-02,  2.34690122e-02,  4.05010542e-05,\n",
       "       -2.18803668e-03, -2.06341594e-03, -4.33782414e-02, -6.21988031e-04,\n",
       "       -4.64339629e-02,  8.27862918e-02, -1.49072725e-02,  3.24270837e-02,\n",
       "        1.35792540e-02, -1.49164279e-03,  8.62602443e-02,  6.92182630e-02,\n",
       "        4.57403949e-03,  3.55520216e-03,  6.91157132e-02, -9.68690887e-02,\n",
       "        3.21001112e-02, -1.90142468e-02,  7.19640031e-02,  7.18858466e-02,\n",
       "        2.10939180e-02, -8.37227912e-04, -2.27937177e-02,  1.27857607e-02,\n",
       "        9.23394412e-02, -5.41783869e-02,  4.61493842e-02, -7.08942907e-03,\n",
       "       -3.20987105e-02, -3.81699614e-02, -4.22405638e-02,  5.16356155e-02,\n",
       "        1.07124997e-02, -5.59868626e-02, -2.29028445e-02,  3.15916613e-02,\n",
       "       -5.60135320e-02,  1.22199180e-02, -1.85765512e-02, -3.86150531e-03,\n",
       "        5.66245541e-02,  3.09960041e-02,  3.28162983e-02,  5.95071204e-02,\n",
       "       -1.15265511e-02,  2.45990828e-02,  1.98689359e-03,  3.61350439e-02,\n",
       "        7.19022304e-02,  6.74675079e-03, -2.22808663e-02,  3.80802527e-02,\n",
       "       -3.19978781e-02,  4.77899686e-02, -4.88462038e-02, -2.62966491e-02,\n",
       "       -9.14799236e-03, -3.70225236e-02, -2.10673101e-02,  3.66252549e-02,\n",
       "       -2.93567218e-03,  1.90015603e-02, -4.06738557e-02, -9.88849811e-03,\n",
       "       -1.32069951e-02, -1.84205808e-02, -3.04457080e-02, -1.17648123e-02,\n",
       "       -2.16220692e-02, -1.32907946e-02, -4.90810424e-02,  3.75495143e-02,\n",
       "        2.36799140e-02,  6.20988198e-03,  1.94518864e-02,  1.11171426e-02,\n",
       "       -1.27271013e-02, -1.16941072e-02, -4.15579043e-02,  3.03730648e-03,\n",
       "        3.35785486e-02,  2.02150960e-02, -5.23533672e-02, -1.03417831e-02,\n",
       "       -3.44100222e-02, -1.83595158e-02,  1.93087698e-03,  3.44448425e-02,\n",
       "       -2.83047985e-02,  7.25740707e-03,  5.40008917e-02, -2.32120547e-02,\n",
       "       -2.37849094e-02,  5.14848623e-03, -1.04726683e-02, -3.04511134e-02,\n",
       "       -1.45228235e-02,  5.83771989e-02,  6.24929834e-03,  1.76533423e-02,\n",
       "        2.71377694e-02, -2.07602661e-02, -4.82953712e-03,  4.38607484e-02,\n",
       "        4.89790700e-02, -1.84726194e-02,  2.23985426e-02,  2.48786900e-02,\n",
       "       -7.83604383e-03,  2.70838495e-02,  8.69912207e-02,  5.14607914e-02,\n",
       "        2.68816669e-02, -2.45199017e-02,  1.98570788e-02,  2.55423058e-02,\n",
       "       -4.49709669e-02,  1.18260039e-02, -5.71240447e-02,  6.86878189e-02,\n",
       "        2.32738610e-02,  4.34287377e-02,  1.60184391e-02,  3.36551219e-02,\n",
       "        1.18744997e-02,  1.84787195e-02,  2.18717437e-02,  8.06097686e-03,\n",
       "        2.65186783e-02, -1.67910997e-02, -1.14257671e-02,  5.79696000e-02,\n",
       "        2.19955631e-02, -7.88591802e-02,  4.26271632e-02, -7.00563341e-02,\n",
       "        5.12132347e-02,  2.96157692e-02,  4.99608479e-02,  9.40513331e-03,\n",
       "       -4.73498330e-02,  4.21216972e-02, -1.81927457e-02, -7.69210979e-02,\n",
       "        9.72863659e-03, -6.79067299e-02,  1.55991707e-02,  2.72873025e-02,\n",
       "        4.54439968e-03, -2.10018735e-03,  7.53396973e-02,  1.33481680e-03,\n",
       "       -1.99394729e-02, -5.24484590e-02,  3.05672060e-03,  1.98291969e-02,\n",
       "        2.39940807e-02,  1.24235880e-02,  1.47050265e-02,  1.03529589e-02,\n",
       "       -4.38815281e-02,  4.75225709e-02,  3.21548879e-02,  6.52114162e-04,\n",
       "       -2.02529635e-02,  4.32258882e-02, -2.71596666e-02,  1.38091687e-02,\n",
       "       -3.86391468e-02,  2.84993276e-02, -2.27448484e-03,  3.99671830e-02,\n",
       "        1.53477099e-02,  1.32416096e-02, -7.11276606e-02,  3.93648371e-02,\n",
       "        2.51131710e-02, -2.36388445e-02,  1.80941354e-02, -2.43954528e-02,\n",
       "        2.19318410e-03,  3.75051983e-02,  1.56092057e-02,  7.14064203e-03,\n",
       "       -3.41359712e-02,  7.57620391e-03,  2.62274388e-02,  1.14289289e-02,\n",
       "        3.52655686e-02,  2.13690219e-03, -4.56283707e-03, -2.63882335e-02,\n",
       "        6.55588508e-02,  6.00263663e-02, -3.54714617e-02, -1.01350760e-02,\n",
       "        2.56268885e-02, -1.02697171e-01,  3.54785323e-02, -6.22319356e-02,\n",
       "       -1.14733977e-02, -3.44268000e-03,  1.05505169e-03, -2.81982776e-03,\n",
       "        6.26723096e-02, -4.57265675e-02,  1.70462877e-02, -8.05483162e-02,\n",
       "        1.55107807e-02, -2.58711661e-04,  2.01547276e-02,  8.79565068e-03,\n",
       "        2.62557846e-02,  8.31562385e-04, -3.23720016e-02, -5.27925603e-02,\n",
       "        1.55638680e-02,  1.15739089e-02, -2.99575040e-03, -8.24663788e-03,\n",
       "       -3.26189138e-02, -7.73414597e-02, -4.12966944e-02, -2.21012570e-02,\n",
       "        4.75402828e-03, -1.25991041e-02,  1.07523538e-02,  4.99581657e-02,\n",
       "        2.15218812e-02,  2.69317944e-02,  3.28038894e-02,  7.46345147e-03,\n",
       "        1.83876902e-02, -2.74957772e-02, -9.13319178e-03, -1.22790448e-02,\n",
       "        2.07576193e-02,  1.40681854e-02,  1.09913824e-02, -2.26452295e-02,\n",
       "        6.41365945e-02, -1.79608297e-02, -4.23230492e-02, -1.88530446e-03,\n",
       "       -3.59299891e-02,  1.20294318e-02,  1.00361360e-02,  6.56100512e-02,\n",
       "        2.87165996e-02,  2.78465226e-02, -5.23849875e-02,  3.18163037e-02,\n",
       "       -4.65675965e-02,  1.38317067e-02,  2.83224564e-02,  7.78382039e-03,\n",
       "       -9.74422507e-03, -3.97435762e-02, -2.49803960e-02, -2.32911278e-02,\n",
       "       -2.11589038e-02, -6.84602931e-03, -1.95434690e-02, -2.29272041e-02,\n",
       "       -1.46510219e-02, -2.22448800e-02, -1.09536527e-02, -3.67134400e-02,\n",
       "       -1.84324663e-02, -1.04103079e-02, -8.88101105e-03, -1.47620523e-02,\n",
       "       -2.92523894e-02,  1.00569651e-02,  2.28201374e-02,  1.42327184e-03,\n",
       "       -2.35474743e-02, -2.39605289e-02,  5.40141128e-02, -2.16813292e-02,\n",
       "        1.94904730e-02, -3.11479066e-02, -1.54089881e-02, -1.45635931e-02,\n",
       "        5.81609830e-02,  3.05503402e-02, -5.09663625e-03, -1.68099571e-02,\n",
       "       -3.46655361e-02, -2.07241401e-02, -4.60087508e-02,  2.22174148e-03,\n",
       "       -4.44852635e-02,  1.13986572e-02,  3.25434506e-02, -7.11341351e-02,\n",
       "       -2.52612736e-02, -1.93929002e-02,  1.29123619e-02, -3.82378586e-02,\n",
       "       -1.61821116e-02,  3.58506851e-02,  5.04317284e-02, -4.06110659e-03,\n",
       "        1.62504464e-02, -7.24662542e-02,  2.72172000e-02,  1.78223494e-02,\n",
       "        1.37029039e-02,  2.36819778e-02,  2.59892847e-02,  4.08842601e-02,\n",
       "        6.46982156e-03, -1.15187764e-02, -2.65878811e-02,  9.67550930e-03,\n",
       "       -5.31226061e-02,  8.27150885e-04,  1.87266115e-02, -2.92988610e-03,\n",
       "        2.49405000e-02, -1.47512518e-02,  1.41259236e-02,  4.05030325e-02,\n",
       "       -1.27288513e-02, -6.76722527e-02,  4.83829528e-02,  4.07700390e-02,\n",
       "        1.98605303e-02,  3.03293932e-02,  2.63720937e-02,  5.23594357e-02,\n",
       "       -3.34631242e-02, -9.35077388e-03,  1.69177558e-02,  4.34683636e-02,\n",
       "        3.83584835e-02,  4.47562449e-02,  1.90879237e-02, -1.47993593e-02,\n",
       "       -4.34137182e-03,  1.08403396e-02,  4.95932903e-03, -1.63312294e-02,\n",
       "       -1.97148160e-03, -4.17675115e-02,  6.56750873e-02, -6.79403171e-02,\n",
       "        4.33396222e-03, -1.69463288e-02,  2.51759049e-02,  2.56763790e-02,\n",
       "        1.15081819e-03, -1.54735418e-02, -7.34513439e-03, -5.32572754e-02,\n",
       "        3.48775974e-03, -1.38180405e-02, -5.89082129e-02,  2.92865466e-03,\n",
       "        5.04819043e-02,  3.35813081e-03, -8.88556316e-02, -3.84001024e-02,\n",
       "       -2.22147852e-02, -2.82134265e-02, -5.42565063e-03,  2.85600629e-02,\n",
       "       -4.50810678e-02,  7.93271931e-04,  8.93172249e-02,  1.16105061e-02,\n",
       "       -3.18008624e-02,  2.66568139e-02,  2.71802712e-02,  1.89267434e-02,\n",
       "       -2.06058472e-02, -3.02396640e-02, -2.85009667e-02, -3.13029774e-02,\n",
       "       -1.97963081e-02, -6.64772978e-03, -1.67978276e-02, -1.99807789e-02,\n",
       "       -5.34575805e-02, -4.45691025e-04, -2.96823028e-02,  4.37867381e-02,\n",
       "       -1.00504002e-02, -1.09997410e-02,  2.21026279e-02, -3.46548930e-02,\n",
       "        2.11835746e-02,  1.56232687e-02,  2.64695361e-02, -2.34831516e-02,\n",
       "        2.44938117e-02,  4.38888483e-02,  7.06146704e-03, -1.21593354e-02,\n",
       "        1.87902339e-02, -6.91951020e-03,  1.30047482e-02,  1.27161061e-02,\n",
       "       -2.23635416e-03,  2.10030675e-02,  6.99695721e-02,  3.16451974e-02,\n",
       "       -2.35833172e-02,  4.63551981e-03, -6.60421327e-03, -3.26112323e-02,\n",
       "        7.33723640e-02, -8.55090991e-02, -4.05770428e-02,  2.57487390e-02,\n",
       "       -5.12588657e-02,  6.70370162e-02, -1.24506066e-02, -8.91838446e-02,\n",
       "        5.48583232e-02, -4.54949923e-02, -3.45565155e-02, -7.73074850e-02,\n",
       "        4.11657728e-02, -4.30639535e-02,  2.70703062e-02,  3.20439860e-02,\n",
       "       -4.77702059e-02, -1.56586170e-02,  1.72707047e-02, -5.23967221e-02,\n",
       "       -7.17989579e-02,  4.30010585e-03,  7.25752689e-05,  5.29346913e-02,\n",
       "       -3.14253271e-02,  1.90561004e-02,  2.56206449e-02,  7.90969878e-02,\n",
       "        2.13809479e-02, -2.44315583e-02, -1.42572904e-02,  3.64166945e-02,\n",
       "        4.89886813e-02,  2.09607687e-02, -4.13178988e-02,  4.09340709e-02,\n",
       "       -1.21459812e-01,  6.68874681e-02, -3.10818490e-04, -6.26350287e-03,\n",
       "        3.98600399e-02,  5.48594780e-02, -1.15817979e-01,  5.31956479e-02,\n",
       "       -4.32696566e-02,  4.33376320e-02,  2.90152542e-02, -8.89771730e-02,\n",
       "       -2.17882283e-02,  1.54281259e-02,  3.62119824e-02, -9.14942175e-02,\n",
       "       -3.93840950e-03, -3.60860415e-02, -7.26094889e-03,  8.90838169e-03,\n",
       "       -5.32953665e-02,  3.61572951e-02,  8.56206343e-02, -1.42062111e-02,\n",
       "        2.44349018e-02,  1.94476324e-03,  5.81037812e-02, -2.16630846e-02,\n",
       "        2.43256316e-02, -2.31526350e-03, -1.37544121e-03,  5.89746274e-02,\n",
       "        8.06517340e-03, -5.71867311e-03,  2.14907620e-02, -2.76927166e-02,\n",
       "       -3.97252664e-02,  3.13828029e-02,  1.40225887e-03,  5.06811216e-02],\n",
       "      dtype=float32)"
      ]
     },
     "execution_count": 7,
     "metadata": {},
     "output_type": "execute_result"
    }
   ],
   "source": [
    "query_embedding"
   ]
  },
  {
   "cell_type": "markdown",
   "id": "79dd679a-feb7-4553-a988-346b7975683d",
   "metadata": {},
   "source": [
    "## Prepare the documents\n",
    "Now we will create the embeddings for the documents.\n",
    "\n",
    "Load the documents with ids that we prepared in the module:"
   ]
  },
  {
   "cell_type": "code",
   "execution_count": 9,
   "id": "2358e1bb-4564-4e39-a3f8-1bf21deeed3a",
   "metadata": {},
   "outputs": [],
   "source": [
    "import requests \n",
    "\n",
    "base_url = 'https://github.com/DataTalksClub/llm-zoomcamp/blob/main'\n",
    "relative_url = '03-vector-search/eval/documents-with-ids.json'\n",
    "docs_url = f'{base_url}/{relative_url}?raw=1'\n",
    "docs_response = requests.get(docs_url)\n",
    "documents = docs_response.json()"
   ]
  },
  {
   "cell_type": "markdown",
   "id": "dbdcd2da-2758-4fb4-b613-26e409dd2de5",
   "metadata": {},
   "source": [
    "We will use only a subset of the questions - the questions for \"machine-learning-zoomcamp\". After filtering, you should have only 375 documents"
   ]
  },
  {
   "cell_type": "code",
   "execution_count": 12,
   "id": "a88705d6-58ee-4f28-ab5d-d372d4e92a2e",
   "metadata": {},
   "outputs": [],
   "source": [
    "filtered_documents = [doc for doc in documents if doc['course'] == 'machine-learning-zoomcamp']"
   ]
  },
  {
   "cell_type": "code",
   "execution_count": 13,
   "id": "979cb173-14a0-4de3-abb7-84e0682c3642",
   "metadata": {},
   "outputs": [
    {
     "data": {
      "text/plain": [
       "375"
      ]
     },
     "execution_count": 13,
     "metadata": {},
     "output_type": "execute_result"
    }
   ],
   "source": [
    "len(filtered_documents)"
   ]
  },
  {
   "cell_type": "code",
   "execution_count": 15,
   "id": "7c64829b-f484-4225-b51a-d0f56b011837",
   "metadata": {},
   "outputs": [
    {
     "data": {
      "text/plain": [
       "{'text': 'Machine Learning Zoomcamp FAQ\\nThe purpose of this document is to capture frequently asked technical questions.\\nWe did this for our data engineering course and it worked quite well. Check this document for inspiration on how to structure your questions and answers:\\nData Engineering Zoomcamp FAQ\\nIn the course GitHub repository there’s a link. Here it is: https://airtable.com/shryxwLd0COOEaqXo\\nwork',\n",
       " 'section': 'General course-related questions',\n",
       " 'question': 'How do I sign up?',\n",
       " 'course': 'machine-learning-zoomcamp',\n",
       " 'id': '0227b872'}"
      ]
     },
     "execution_count": 15,
     "metadata": {},
     "output_type": "execute_result"
    }
   ],
   "source": [
    "filtered_documents[0]"
   ]
  },
  {
   "cell_type": "markdown",
   "id": "2f769438-8808-4058-863a-19a84f63574f",
   "metadata": {},
   "source": [
    "## Q2. Creating the embeddings\n",
    "\n",
    "Now for each document, we will create an embedding for both question and answer fields.\n",
    "\n",
    "We want to put all of them into a single matrix X:\n",
    "\n",
    "Create a list embeddings\n",
    "Iterate over each document\n",
    "qa_text = f'{question} {text}'\n",
    "compute the embedding for qa_text, append to embeddings\n",
    "At the end, let X = np.array(embeddings) (import numpy as np)\n",
    "What's the shape of X? (X.shape). Include the parantheses."
   ]
  },
  {
   "cell_type": "code",
   "execution_count": 14,
   "id": "6bed6dc3-e3ff-44d8-bdf9-642cc722b0d9",
   "metadata": {},
   "outputs": [],
   "source": [
    "embeddings = []"
   ]
  },
  {
   "cell_type": "code",
   "execution_count": 16,
   "id": "4c58b66f-77b5-4838-bdb0-6b8d013bace2",
   "metadata": {},
   "outputs": [],
   "source": [
    "for doc in filtered_documents:\n",
    "    qa_text = f\"{doc['question']} {doc['text']}\"\n",
    "    embedding_qa_text = embedding_model.encode(qa_text)\n",
    "    embeddings.append(embedding_qa_text)"
   ]
  },
  {
   "cell_type": "code",
   "execution_count": 17,
   "id": "9b73985a-ee87-4581-a916-5bba4b786aae",
   "metadata": {},
   "outputs": [],
   "source": [
    "import numpy as np"
   ]
  },
  {
   "cell_type": "code",
   "execution_count": 18,
   "id": "c3edd63d-36e6-4c21-9e41-f7d58d797918",
   "metadata": {},
   "outputs": [],
   "source": [
    "X = np.array(embeddings)"
   ]
  },
  {
   "cell_type": "code",
   "execution_count": 19,
   "id": "101818c5-d6ed-452d-95dc-f8e85b97bd86",
   "metadata": {},
   "outputs": [
    {
     "data": {
      "text/plain": [
       "(375, 768)"
      ]
     },
     "execution_count": 19,
     "metadata": {},
     "output_type": "execute_result"
    }
   ],
   "source": [
    "X.shape"
   ]
  },
  {
   "cell_type": "markdown",
   "id": "2f26377f-02d9-4f8c-8368-cc1f1132b736",
   "metadata": {},
   "source": [
    "## Q3. Search\n",
    "We have the embeddings and the query vector. Now let's compute the cosine similarity between the vector from Q1 (let's call it v) and the matrix from Q2.\n",
    "\n",
    "The vectors returned from the embedding model are already normalized (you can check it by computing a dot product of a vector with itself - it should return 1.0). This means that in order to compute the coside similarity, it's sufficient to multiply the matrix X by the vector v:"
   ]
  },
  {
   "cell_type": "code",
   "execution_count": 21,
   "id": "1e9b5ec5-8fe8-436c-902b-642f92cfff92",
   "metadata": {},
   "outputs": [],
   "source": [
    "v = query_embedding"
   ]
  },
  {
   "cell_type": "code",
   "execution_count": 22,
   "id": "b9c905f5-aa57-4685-8af3-c5b4fbf9ac8c",
   "metadata": {},
   "outputs": [],
   "source": [
    "scores = X.dot(v)"
   ]
  },
  {
   "cell_type": "code",
   "execution_count": 24,
   "id": "11b2d7e2-fe56-4fa4-89e4-6a8fa4a745b5",
   "metadata": {},
   "outputs": [
    {
     "data": {
      "text/plain": [
       "0.6506573"
      ]
     },
     "execution_count": 24,
     "metadata": {},
     "output_type": "execute_result"
    }
   ],
   "source": [
    "max(scores)"
   ]
  },
  {
   "cell_type": "markdown",
   "id": "3cee107f-0b48-4bf5-ba5c-d03e85cc3fc7",
   "metadata": {},
   "source": [
    "## Vector search\n",
    "We can now compute the similarity between a query vector and all the embeddings.\n",
    "    \n",
    "If you don't understand how the search function work:\n",
    "\n",
    "Ask ChatGTP or any other LLM of your choice to explain the code\n",
    "Check our pre-course workshop about implementing a search engine here\n",
    "(Note: you can replace argsort with argpartition to make it a lot faster)"
   ]
  },
  {
   "cell_type": "code",
   "execution_count": 26,
   "id": "35208261-43b5-4060-9f8b-a73959de9c10",
   "metadata": {},
   "outputs": [
    {
     "data": {
      "text/plain": [
       "[{'text': 'You can find the latest and up-to-date deadlines here: https://docs.google.com/spreadsheets/d/e/2PACX-1vQACMLuutV5rvXg5qICuJGL-yZqIV0FBD84CxPdC5eZHf8TfzB-CJT_3Mo7U7oGVTXmSihPgQxuuoku/pubhtml\\nAlso, take note of Announcements from @Au-Tomator for any extensions or other news. Or, the form may also show the updated deadline, if Instructor(s) has updated it.',\n",
       "  'section': 'General course-related questions',\n",
       "  'question': 'Homework - What are homework and project deadlines?',\n",
       "  'course': 'data-engineering-zoomcamp',\n",
       "  'id': 'a1daf537'},\n",
       " {'text': 'After you submit your homework it will be graded based on the amount of questions in a particular homework. You can see how many points you have right on the page of the homework up top. Additionally in the leaderboard you will find the sum of all points you’ve earned - points for Homeworks, FAQs and Learning in Public. If homework is clear, others work as follows: if you submit something to FAQ, you get one point, for each learning in a public link you get one point.\\n(https://datatalks-club.slack.com/archives/C01FABYF2RG/p1706846846359379?thread_ts=1706825019.546229&cid=C01FABYF2RG)',\n",
       "  'section': 'General course-related questions',\n",
       "  'question': 'Homework and Leaderboard - what is the system for points in the course management platform?',\n",
       "  'course': 'data-engineering-zoomcamp',\n",
       "  'id': '29865466'},\n",
       " {'text': \"There are 3 Zoom Camps in a year, as of 2024. However, they are for separate courses:\\nData-Engineering (Jan - Apr)\\nMLOps (May - Aug)\\nMachine Learning (Sep - Jan)\\nThere's only one Data-Engineering Zoomcamp “live” cohort per year, for the certification. Same as for the other Zoomcamps.\\nThey follow pretty much the same schedule for each cohort per zoomcamp. For Data-Engineering it is (generally) from Jan-Apr of the year. If you’re not interested in the Certificate, you can take any zoom camps at any time, at your own pace, out of sync with any “live” cohort.\",\n",
       "  'section': 'General course-related questions',\n",
       "  'question': 'Course - how many Zoomcamps in a year?',\n",
       "  'course': 'data-engineering-zoomcamp',\n",
       "  'id': '2ed9b986'},\n",
       " {'text': 'Check Docker Compose File:\\nEnsure that your docker-compose.yaml file is correctly configured with the necessary details for the \"control-center\" service. Check the service name, image name, ports, volumes, environment variables, and any other configurations required for the container to start.\\nOn Mac OSX 12.2.1 (Monterey) I could not start the kafka control center. I opened Docker Desktop and saw docker images still running from week 4, which I did not see when I typed “docker ps.” I deleted them in docker desktop and then had no problem starting up the kafka environment.',\n",
       "  'section': 'Module 6: streaming with kafka',\n",
       "  'question': 'Could not start docker image “control-center” from the docker-compose.yaml file.',\n",
       "  'course': 'data-engineering-zoomcamp',\n",
       "  'id': '70ac8e80'},\n",
       " {'text': 'You can set it up on your laptop or PC if you prefer to work locally from your laptop or PC.\\nYou might face some challenges, especially for Windows users. If you face cnd2\\nIf you prefer to work on the local machine, you may start with the week 1 Introduction to Docker and follow through.\\nHowever, if you prefer to set up a virtual machine, you may start with these first:\\nUsing GitHub Codespaces\\nSetting up the environment on a cloudV Mcodespace\\nI decided to work on a virtual machine because I have different laptops & PCs for my home & office, so I can work on this boot camp virtually anywhere.',\n",
       "  'section': 'General course-related questions',\n",
       "  'question': 'Environment - Should I use my local machine, GCP, or GitHub Codespaces for my environment?',\n",
       "  'course': 'data-engineering-zoomcamp',\n",
       "  'id': 'ddf6c1b3'}]"
      ]
     },
     "execution_count": 26,
     "metadata": {},
     "output_type": "execute_result"
    }
   ],
   "source": [
    "class VectorSearchEngine():\n",
    "    def __init__(self, documents, embeddings):\n",
    "        self.documents = documents\n",
    "        self.embeddings = embeddings\n",
    "\n",
    "    def search(self, v_query, num_results=10):\n",
    "        scores = self.embeddings.dot(v_query)\n",
    "        idx = np.argsort(-scores)[:num_results]\n",
    "        return [self.documents[i] for i in idx]\n",
    "\n",
    "search_engine = VectorSearchEngine(documents=documents, embeddings=X)\n",
    "search_engine.search(v, num_results=5)"
   ]
  },
  {
   "cell_type": "code",
   "execution_count": null,
   "id": "27d3b338-95bb-4a0f-ab10-5460c791a518",
   "metadata": {},
   "outputs": [],
   "source": []
  }
 ],
 "metadata": {
  "kernelspec": {
   "display_name": "Python 3 (ipykernel)",
   "language": "python",
   "name": "python3"
  },
  "language_info": {
   "codemirror_mode": {
    "name": "ipython",
    "version": 3
   },
   "file_extension": ".py",
   "mimetype": "text/x-python",
   "name": "python",
   "nbconvert_exporter": "python",
   "pygments_lexer": "ipython3",
   "version": "3.10.13"
  }
 },
 "nbformat": 4,
 "nbformat_minor": 5
}
